{
 "cells": [
  {
   "cell_type": "markdown",
   "metadata": {
    "id": "1R-1Tla0zA5X"
   },
   "source": [
    "**Data Pre-processing**"
   ]
  },
  {
   "cell_type": "code",
   "execution_count": 137,
   "metadata": {
    "id": "bU4q1nqz1M1-"
   },
   "outputs": [],
   "source": [
    "import pandas as pd \n",
    "import numpy as np\n",
    "import re\n",
    "import pickle\n",
    "import time\n",
    "from sklearn.model_selection import train_test_split\n",
    "from sklearn.ensemble import RandomForestClassifier\n",
    "from sklearn.metrics import accuracy_score\n",
    "from selenium import webdriver\n",
    "from selenium.webdriver.chrome.options import Options\n",
    "from selenium.webdriver.support.ui import WebDriverWait\n",
    "from selenium.webdriver.support import expected_conditions as EC\n",
    "from selenium.webdriver.common.by import By\n",
    "options = Options()\n",
    "options.add_argument(\"--headless\")"
   ]
  },
  {
   "cell_type": "code",
   "execution_count": 138,
   "metadata": {},
   "outputs": [],
   "source": [
    "def get_hyperlinks(url):\n",
    "    driver = webdriver.Chrome(options = options)\n",
    "    driver.get(url)\n",
    "    time.sleep(5)\n",
    "    total = driver.find_elements_by_tag_name(\"a\") \n",
    "    driver.quit()\n",
    "    return len(total)\n",
    "    "
   ]
  },
  {
   "cell_type": "code",
   "execution_count": 139,
   "metadata": {},
   "outputs": [],
   "source": [
    "def get_pagerank(url):\n",
    "    driver = webdriver.Chrome(options = options)\n",
    "    driver.get(\"https://checkpagerank.net/\")\n",
    "    assert \"PageRank\" in driver.title\n",
    "    tf = driver.find_element_by_name(\"name\")\n",
    "    tf.clear()\n",
    "    tf.send_keys(url)\n",
    "    driver.find_element_by_class_name(\"btn-primary\").click()\n",
    "    delay = 5 \n",
    "    myElem = WebDriverWait(driver, delay).until(EC.presence_of_element_located((By.CLASS_NAME , 'results')))\n",
    "    resultTable = driver.find_element_by_class_name(\"results\")\n",
    "    resultTableContent = resultTable.get_attribute('innerHTML')\n",
    "    driver.quit()\n",
    "    return resultTableContent.split(\"/10\")[0]"
   ]
  },
  {
   "cell_type": "code",
   "execution_count": 140,
   "metadata": {},
   "outputs": [],
   "source": [
    "def getDomainName(s):\n",
    "  temp = s.split(\"/\")[2]\n",
    "  return temp"
   ]
  },
  {
   "cell_type": "code",
   "execution_count": 141,
   "metadata": {},
   "outputs": [],
   "source": [
    "def getFeatures(url) :\n",
    "  featureList = []\n",
    "  domainName = getDomainName(url)\n",
    "  all_digits = ['0', '1', '2', '3', '4', '5', '6', '7', '8', '9']\n",
    "  # 1) Length of URL\n",
    "  featureList.append(len(url))\n",
    "  # 2) Length of Domain Name\n",
    "  featureList.append(len(domainName))\n",
    "  # 3) ip\n",
    "  pattern1 = re.compile(r'(\\d{1,3}\\.\\d{1,3}\\.\\d{1,3}\\.\\d{1,3})')\n",
    "  if pattern1.search(url) != None:\n",
    "    featureList.append(1)\n",
    "  else:\n",
    "    featureList.append(0)\n",
    "  # 4) nb_dots\n",
    "  featureList.append(len(domainName.split(\".\")) - 1)\n",
    "  # 5) nb_hyphens\n",
    "  featureList.append(len(domainName.split(\"-\")) - 1)\n",
    "  # 6) nb_at\n",
    "  featureList.append(len(url.split(\"@\")) - 1)\n",
    "  # 7) nb_slash\n",
    "  featureList.append(len(url.split(\"/\")) - 1)\n",
    "  # 8) nb_www\n",
    "  featureList.append(len(url.split(\"www\")) - 1)\n",
    "  # 9) nb_dslash\n",
    "  count = len(url.split(\"//\")) - 2\n",
    "  if count > 0:\n",
    "    featureList.append(1)\n",
    "  else:\n",
    "    featureList.append(0)\n",
    "  # 10) http_in_path\n",
    "  featureList.append(len(url.split(\"http\")) - 2)\n",
    "  # 11) https_token\n",
    "  scheme = url.split(\"/\")[0]\n",
    "  if scheme == \"http:\":\n",
    "    featureList.append(1)\n",
    "  else:\n",
    "    featureList.append(0)\n",
    "  # 12) ratio_digits_url\n",
    "  total_digits_url = 0\n",
    "  for s in url:\n",
    "    if s in all_digits:\n",
    "        total_digits_url += 1\n",
    "  featureList.append(round(total_digits_url / len(url), 9))\n",
    "  # 13) ratio_digits_host\n",
    "  total_digits_domain = 0\n",
    "  for s in domainName:\n",
    "    if s in all_digits:\n",
    "        total_digits_domain += 1\n",
    "  featureList.append(round(total_digits_domain / len(domainName), 9))\n",
    "  # 14) nb_hyperlinks\n",
    "  featureList.append(get_hyperlinks(url))\n",
    "  #15) page_rank\n",
    "  tempResult = get_pagerank(url)\n",
    "  if tempResult[-1] not in all_digits:\n",
    "    featureList.append(0)\n",
    "  else:\n",
    "    featureList.append(tempResult[-1])\n",
    "  return featureList"
   ]
  },
  {
   "cell_type": "code",
   "execution_count": 142,
   "metadata": {
    "id": "4htbH_CR1X0l"
   },
   "outputs": [],
   "source": [
    "df = pd.read_csv('FinalPhishing.csv')"
   ]
  },
  {
   "cell_type": "code",
   "execution_count": 143,
   "metadata": {
    "id": "jR20nEDG5aMw"
   },
   "outputs": [],
   "source": [
    "tempdf = df[[\"length_url\", 'length_hostname', 'ip', 'nb_dots', 'nb_hyphens', 'nb_at', 'nb_slash', 'nb_www', 'nb_dslash', \n",
    "             'http_in_path', 'https_token', 'ratio_digits_url', 'ratio_digits_host', 'nb_hyperlinks', 'page_rank', \n",
    "             'status']]"
   ]
  },
  {
   "cell_type": "markdown",
   "metadata": {
    "id": "vPdk1LS00NbF"
   },
   "source": [
    "# Model Training"
   ]
  },
  {
   "cell_type": "code",
   "execution_count": 144,
   "metadata": {
    "colab": {
     "base_uri": "https://localhost:8080/"
    },
    "id": "-P9srsJO0M6q",
    "outputId": "07f4b14b-5d31-4644-b148-b8f998985591",
    "scrolled": true
   },
   "outputs": [],
   "source": [
    "Y = tempdf['status']\n",
    "tempdf.drop('status', inplace = True, axis = 1)"
   ]
  },
  {
   "cell_type": "code",
   "execution_count": 145,
   "metadata": {
    "id": "9oTzBHpZ0wqs"
   },
   "outputs": [],
   "source": [
    "X_train, X_test, y_train, y_test = train_test_split(tempdf, Y, test_size = 0.2, random_state = 42)"
   ]
  },
  {
   "cell_type": "code",
   "execution_count": 146,
   "metadata": {
    "colab": {
     "base_uri": "https://localhost:8080/"
    },
    "id": "auiOhgszOly5",
    "outputId": "3a31c4f2-948c-4990-d58a-8991ec9edb7e",
    "scrolled": true
   },
   "outputs": [
    {
     "data": {
      "text/plain": [
       "0.9448818897637795"
      ]
     },
     "execution_count": 146,
     "metadata": {},
     "output_type": "execute_result"
    }
   ],
   "source": [
    "clf = RandomForestClassifier(random_state = 42).fit(X_train, y_train)\n",
    "predictions = clf.predict(X_test)\n",
    "accuracy_score(y_test, predictions)"
   ]
  },
  {
   "cell_type": "code",
   "execution_count": 147,
   "metadata": {},
   "outputs": [],
   "source": [
    "filename = 'finalized_model.sav'\n",
    "pickle.dump(clf, open(filename, 'wb'))"
   ]
  },
  {
   "cell_type": "code",
   "execution_count": 148,
   "metadata": {},
   "outputs": [],
   "source": [
    "loaded_model = pickle.load(open(filename, 'rb'))"
   ]
  },
  {
   "cell_type": "markdown",
   "metadata": {
    "id": "oo5QXli817KM"
   },
   "source": [
    "## Predicting for a given URL\n"
   ]
  },
  {
   "cell_type": "code",
   "execution_count": 149,
   "metadata": {
    "id": "7tQ-1-5B16nU"
   },
   "outputs": [],
   "source": [
    "url = \"https://www.google.com\""
   ]
  },
  {
   "cell_type": "code",
   "execution_count": 150,
   "metadata": {
    "id": "OXw2YgXtQb1m"
   },
   "outputs": [],
   "source": [
    "URL_REGEX = r\"\"\"(?i)\\b((?:https?:(?:/{1,3}|[a-z0-9%])|[a-z0-9.\\-]+[.](?:com|net|org|edu|gov|mil|aero|asia|biz|cat|coop|info|int|jobs|mobi|museum|name|post|pro|tel|travel|xxx|ac|ad|ae|af|ag|ai|al|am|an|ao|aq|ar|as|at|au|aw|ax|az|ba|bb|bd|be|bf|bg|bh|bi|bj|bm|bn|bo|br|bs|bt|bv|bw|by|bz|ca|cc|cd|cf|cg|ch|ci|ck|cl|cm|cn|co|cr|cs|cu|cv|cx|cy|cz|dd|de|dj|dk|dm|do|dz|ec|ee|eg|eh|er|es|et|eu|fi|fj|fk|fm|fo|fr|ga|gb|gd|ge|gf|gg|gh|gi|gl|gm|gn|gp|gq|gr|gs|gt|gu|gw|gy|hk|hm|hn|hr|ht|hu|id|ie|il|im|in|io|iq|ir|is|it|je|jm|jo|jp|ke|kg|kh|ki|km|kn|kp|kr|kw|ky|kz|la|lb|lc|li|lk|lr|ls|lt|lu|lv|ly|ma|mc|md|me|mg|mh|mk|ml|mm|mn|mo|mp|mq|mr|ms|mt|mu|mv|mw|mx|my|mz|na|nc|ne|nf|ng|ni|nl|no|np|nr|nu|nz|om|pa|pe|pf|pg|ph|pk|pl|pm|pn|pr|ps|pt|pw|py|qa|re|ro|rs|ru|rw|sa|sb|sc|sd|se|sg|sh|si|sj|Ja|sk|sl|sm|sn|so|sr|ss|st|su|sv|sx|sy|sz|tc|td|tf|tg|th|tj|tk|tl|tm|tn|to|tp|tr|tt|tv|tw|tz|ua|ug|uk|us|uy|uz|va|vc|ve|vg|vi|vn|vu|wf|ws|ye|yt|yu|za|zm|zw)/)(?:[^\\s()<>{}\\[\\]]+|\\([^\\s()]?\\([^\\s()]+\\)[^\\s()]?\\)|\\([^\\s]+?\\))+(?:\\([^\\s()]?\\([^\\s()]+\\)[^\\s()]?\\)|\\([^\\s]+?\\)|[^\\s`!()\\[\\]{};:\\'\\\".,<>?«»“”‘’])|(?:(?<!@)[a-z0-9]+(?:[.\\-][a-z0-9]+)*[.](?:com|net|org|edu|gov|mil|aero|asia|biz|cat|coop|info|int|jobs|mobi|museum|name|post|pro|tel|travel|xxx|ac|ad|ae|af|ag|ai|al|am|an|ao|aq|ar|as|at|au|aw|ax|az|ba|bb|bd|be|bf|bg|bh|bi|bj|bm|bn|bo|br|bs|bt|bv|bw|by|bz|ca|cc|cd|cf|cg|ch|ci|ck|cl|cm|cn|co|cr|cs|cu|cv|cx|cy|cz|dd|de|dj|dk|dm|do|dz|ec|ee|eg|eh|er|es|et|eu|fi|fj|fk|fm|fo|fr|ga|gb|gd|ge|gf|gg|gh|gi|gl|gm|gn|gp|gq|gr|gs|gt|gu|gw|gy|hk|hm|hn|hr|ht|hu|id|ie|il|im|in|io|iq|ir|is|it|je|jm|jo|jp|ke|kg|kh|ki|km|kn|kp|kr|kw|ky|kz|la|lb|lc|li|lk|lr|ls|lt|lu|lv|ly|ma|mc|md|me|mg|mh|mk|ml|mm|mn|mo|mp|mq|mr|ms|mt|mu|mv|mw|mx|my|mz|na|nc|ne|nf|ng|ni|nl|no|np|nr|nu|nz|om|pa|pe|pf|pg|ph|pk|pl|pm|pn|pr|ps|pt|pw|py|qa|re|ro|rs|ru|rw|sa|sb|sc|sd|se|sg|sh|si|sj|Ja|sk|sl|sm|sn|so|sr|ss|st|su|sv|sx|sy|sz|tc|td|tf|tg|th|tj|tk|tl|tm|tn|to|tp|tr|tt|tv|tw|tz|ua|ug|uk|us|uy|uz|va|vc|ve|vg|vi|vn|vu|wf|ws|ye|yt|yu|za|zm|zw)\\b/?(?!@)))\"\"\""
   ]
  },
  {
   "cell_type": "code",
   "execution_count": 151,
   "metadata": {
    "id": "ggTZuYjdQ8aG"
   },
   "outputs": [
    {
     "data": {
      "text/plain": [
       "['https://www.google.com']"
      ]
     },
     "execution_count": 151,
     "metadata": {},
     "output_type": "execute_result"
    }
   ],
   "source": [
    "urls_list = re.findall(URL_REGEX,url)\n",
    "urls_list"
   ]
  },
  {
   "cell_type": "code",
   "execution_count": 152,
   "metadata": {
    "id": "AL1LyYkc2R0u"
   },
   "outputs": [
    {
     "name": "stderr",
     "output_type": "stream",
     "text": [
      "C:\\Users\\hp\\AppData\\Local\\Temp/ipykernel_14724/28876147.py:4: DeprecationWarning: find_elements_by_* commands are deprecated. Please use find_elements() instead\n",
      "  total = driver.find_elements_by_name(\"name\")\n",
      "C:\\Users\\hp\\AppData\\Local\\Temp/ipykernel_14724/1883454719.py:5: DeprecationWarning: find_element_by_* commands are deprecated. Please use find_element() instead\n",
      "  tf = driver.find_element_by_name(\"name\")\n",
      "C:\\Users\\hp\\AppData\\Local\\Temp/ipykernel_14724/1883454719.py:8: DeprecationWarning: find_element_by_* commands are deprecated. Please use find_element() instead\n",
      "  driver.find_element_by_class_name(\"btn-primary\").click()\n",
      "C:\\Users\\hp\\AppData\\Local\\Temp/ipykernel_14724/1883454719.py:11: DeprecationWarning: find_element_by_* commands are deprecated. Please use find_element() instead\n",
      "  resultTable = driver.find_element_by_class_name(\"results\")\n"
     ]
    }
   ],
   "source": [
    "testURL =  np.array(getFeatures(url))"
   ]
  },
  {
   "cell_type": "code",
   "execution_count": 153,
   "metadata": {
    "colab": {
     "base_uri": "https://localhost:8080/"
    },
    "id": "1u2K7U0f2gfN",
    "outputId": "733be768-652d-4a58-886a-fcd805eb79e1"
   },
   "outputs": [
    {
     "data": {
      "text/plain": [
       "array(['22', '14', '0', '2', '0', '0', '2', '1', '0', '0', '0', '0.0',\n",
       "       '0.0', '0', '9'], dtype='<U32')"
      ]
     },
     "execution_count": 153,
     "metadata": {},
     "output_type": "execute_result"
    }
   ],
   "source": [
    "testURL"
   ]
  },
  {
   "cell_type": "code",
   "execution_count": 154,
   "metadata": {
    "colab": {
     "base_uri": "https://localhost:8080/"
    },
    "id": "BXjEa97AAxNg",
    "outputId": "04e06d1b-bc50-4ad1-8f4c-c01174c1fa9f"
   },
   "outputs": [
    {
     "data": {
      "text/plain": [
       "array([0], dtype=int64)"
      ]
     },
     "execution_count": 154,
     "metadata": {},
     "output_type": "execute_result"
    }
   ],
   "source": [
    "loaded_model.predict(testURL.reshape(1,-1))"
   ]
  }
 ],
 "metadata": {
  "colab": {
   "collapsed_sections": [],
   "name": "Phishing_Detection.ipynb",
   "provenance": []
  },
  "kernelspec": {
   "display_name": "Python 3",
   "language": "python",
   "name": "python3"
  },
  "language_info": {
   "codemirror_mode": {
    "name": "ipython",
    "version": 3
   },
   "file_extension": ".py",
   "mimetype": "text/x-python",
   "name": "python",
   "nbconvert_exporter": "python",
   "pygments_lexer": "ipython3",
   "version": "3.9.7"
  }
 },
 "nbformat": 4,
 "nbformat_minor": 1
}
